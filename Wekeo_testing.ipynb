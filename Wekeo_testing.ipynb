{
 "cells": [
  {
   "cell_type": "code",
   "execution_count": 1,
   "id": "b6fa4a07",
   "metadata": {},
   "outputs": [],
   "source": [
    "import xarray as xr\n",
    "import pandas as pd\n",
    "import numpy as np\n",
    "from hda import Client\n",
    "import os\n",
    "import datetime\n",
    "import time\n",
    "import matplotlib\n",
    "import cfgrib"
   ]
  },
  {
   "cell_type": "code",
   "execution_count": 2,
   "id": "e5ca9298",
   "metadata": {},
   "outputs": [],
   "source": [
    "c = Client(debug=True)"
   ]
  },
  {
   "cell_type": "code",
   "execution_count": 3,
   "id": "37cd3f45",
   "metadata": {},
   "outputs": [],
   "source": [
    "data = {\n",
    "  \"datasetId\": \"EO:ECMWF:DAT:REANALYSIS_ERA5_LAND\",\n",
    "  \"boundingBoxValues\": [\n",
    "    {\n",
    "      \"name\": \"area\",\n",
    "      \"bbox\": [\n",
    "        4.589402860992932,\n",
    "        45.49209607580266,\n",
    "        5.283128634710016,\n",
    "        45.94416943597702\n",
    "      ]\n",
    "    }\n",
    "  ],\n",
    "  \"multiStringSelectValues\": [\n",
    "    {\n",
    "      \"name\": \"day\",\n",
    "      \"value\": [\n",
    "        \"10\",\n",
    "        \"11\",\n",
    "        \"12\",\n",
    "        \"13\",\n",
    "        \"14\",\n",
    "        \"15\",\n",
    "        \"16\",\n",
    "        \"17\",\n",
    "        \"18\",\n",
    "        \"19\",\n",
    "        \"20\",\n",
    "        \"21\",\n",
    "        \"22\",\n",
    "        \"23\",\n",
    "        \"24\",\n",
    "        \"25\",\n",
    "        \"26\",\n",
    "        \"27\",\n",
    "        \"28\",\n",
    "        \"29\",\n",
    "        \"30\",\n",
    "        \"31\",\n",
    "        \"01\",\n",
    "        \"02\",\n",
    "        \"03\",\n",
    "        \"04\",\n",
    "        \"05\",\n",
    "        \"06\",\n",
    "        \"07\",\n",
    "        \"08\",\n",
    "        \"09\"\n",
    "      ]\n",
    "    },\n",
    "    {\n",
    "      \"name\": \"time\",\n",
    "      \"value\": [\n",
    "        \"00:00\",\n",
    "        \"01:00\",\n",
    "        \"02:00\",\n",
    "        \"03:00\",\n",
    "        \"04:00\",\n",
    "        \"05:00\",\n",
    "        \"06:00\",\n",
    "        \"07:00\",\n",
    "        \"08:00\",\n",
    "        \"09:00\",\n",
    "        \"10:00\",\n",
    "        \"11:00\",\n",
    "        \"12:00\",\n",
    "        \"13:00\",\n",
    "        \"14:00\",\n",
    "        \"15:00\",\n",
    "        \"16:00\",\n",
    "        \"17:00\",\n",
    "        \"18:00\",\n",
    "        \"19:00\",\n",
    "        \"20:00\",\n",
    "        \"21:00\",\n",
    "        \"22:00\",\n",
    "        \"23:00\"\n",
    "      ]\n",
    "    },\n",
    "    {\n",
    "      \"name\": \"variable\",\n",
    "      \"value\": [\n",
    "        \"2m_temperature\"\n",
    "      ]\n",
    "    }\n",
    "  ],\n",
    "  \"stringChoiceValues\": [\n",
    "    {\n",
    "      \"name\": \"format\",\n",
    "      \"value\": \"netcdf\"\n",
    "    },\n",
    "    {\n",
    "      \"name\": \"month\",\n",
    "      \"value\": \"05\"\n",
    "    },\n",
    "    {\n",
    "      \"name\": \"year\",\n",
    "      \"value\": \"2022\"\n",
    "    }\n",
    "  ]\n",
    "}"
   ]
  },
  {
   "cell_type": "code",
   "execution_count": null,
   "id": "c672bf84",
   "metadata": {},
   "outputs": [],
   "source": [
    "stamp = time.time()\n",
    "matches = c.search(data)\n",
    "matches.download()\n",
    "\n",
    "for match in matches.results:\n",
    "    fdst = match['filename']\n",
    "    print(f\"Found: {fdst}\")\n",
    "\n",
    "filename = '2m_temperatures_1h_lyon' + str(int(stamp)) + '.nc'\n",
    "\n",
    "os.rename(fdst, filename)"
   ]
  },
  {
   "cell_type": "code",
   "execution_count": null,
   "id": "eac0804e",
   "metadata": {},
   "outputs": [],
   "source": [
    "era5_ds = xr.open_dataset(filename)\n",
    "xr.decode_cf(era5_ds)\n",
    "\n",
    "#era5_ds = xr.open_dataset(filename, engine=\"cfgrib\")"
   ]
  },
  {
   "cell_type": "code",
   "execution_count": null,
   "id": "557444bf",
   "metadata": {},
   "outputs": [],
   "source": [
    "\n",
    "lats = era5_ds['latitude']\n",
    "print(\"Latitude South: {0:.2f}, Latitude North: {1:.2f}\".format(lats.data.min(), lats.data.max()))\n",
    "\n",
    "lons = era5_ds['longitude']\n",
    "print(\"Latitude West: {0:.2f}, Latitude East: {1:.2f}\".format(lons.data.min(), lons.data.max()))"
   ]
  },
  {
   "cell_type": "code",
   "execution_count": null,
   "id": "ba45cbe9",
   "metadata": {},
   "outputs": [],
   "source": [
    "temperature2m = era5_ds['t2m']\n",
    "print(temperature2m)"
   ]
  },
  {
   "cell_type": "code",
   "execution_count": null,
   "id": "a09a9252",
   "metadata": {},
   "outputs": [],
   "source": [
    "print(temperature2m.values)"
   ]
  },
  {
   "cell_type": "code",
   "execution_count": null,
   "id": "06896f0d",
   "metadata": {},
   "outputs": [],
   "source": [
    "print(temperature2m.coords)"
   ]
  },
  {
   "cell_type": "code",
   "execution_count": null,
   "id": "c8027130",
   "metadata": {},
   "outputs": [],
   "source": [
    "print(temperature2m.coords['longitude'].values)"
   ]
  },
  {
   "cell_type": "code",
   "execution_count": null,
   "id": "9cdfe30b",
   "metadata": {},
   "outputs": [],
   "source": [
    "print(temperature2m.coords['latitude'].values)"
   ]
  },
  {
   "cell_type": "code",
   "execution_count": null,
   "id": "7298668b",
   "metadata": {},
   "outputs": [],
   "source": [
    "print(temperature2m.coords['time'].values)"
   ]
  },
  {
   "cell_type": "code",
   "execution_count": null,
   "id": "c93eedda",
   "metadata": {},
   "outputs": [],
   "source": [
    "print(temperature2m.attrs)"
   ]
  },
  {
   "cell_type": "code",
   "execution_count": null,
   "id": "6d0e015d",
   "metadata": {},
   "outputs": [],
   "source": [
    "print(temperature2m.attrs['units'])"
   ]
  },
  {
   "cell_type": "code",
   "execution_count": null,
   "id": "4e0fdbd4",
   "metadata": {},
   "outputs": [],
   "source": [
    "print(temperature2m.attrs['long_name'])"
   ]
  },
  {
   "cell_type": "code",
   "execution_count": null,
   "id": "021ab4ce",
   "metadata": {
    "scrolled": true
   },
   "outputs": [],
   "source": [
    "for i in range (0, 4):\n",
    "    (temperature2m[i, :, :]-273.15).plot(cmap = 'jet')\n",
    "    time.sleep(1)"
   ]
  },
  {
   "cell_type": "code",
   "execution_count": null,
   "id": "fc7bd501",
   "metadata": {},
   "outputs": [],
   "source": [
    "temperature2m.mean() - 273.15"
   ]
  },
  {
   "cell_type": "code",
   "execution_count": null,
   "id": "e1c3387e",
   "metadata": {},
   "outputs": [],
   "source": [
    "(temperature2m.sel(time = '2022-05-02T00:00:00.000000000')-273.15).plot(cmap = 'jet')"
   ]
  },
  {
   "cell_type": "code",
   "execution_count": null,
   "id": "5d383e3b",
   "metadata": {},
   "outputs": [],
   "source": [
    "temperature2m.sum(dim='month')"
   ]
  },
  {
   "cell_type": "code",
   "execution_count": null,
   "id": "f0d31821",
   "metadata": {},
   "outputs": [],
   "source": [
    "import cfgrib"
   ]
  },
  {
   "cell_type": "code",
   "execution_count": null,
   "id": "32a00223",
   "metadata": {},
   "outputs": [],
   "source": []
  }
 ],
 "metadata": {
  "kernelspec": {
   "display_name": "Python 3 (ipykernel)",
   "language": "python",
   "name": "python3"
  },
  "language_info": {
   "codemirror_mode": {
    "name": "ipython",
    "version": 3
   },
   "file_extension": ".py",
   "mimetype": "text/x-python",
   "name": "python",
   "nbconvert_exporter": "python",
   "pygments_lexer": "ipython3",
   "version": "3.11.3"
  }
 },
 "nbformat": 4,
 "nbformat_minor": 5
}
