{
 "cells": [
  {
   "cell_type": "code",
   "execution_count": 1,
   "id": "b6fa4a07",
   "metadata": {},
   "outputs": [],
   "source": [
    "import xarray as xr\n",
    "import pandas as pd\n",
    "import numpy as np\n",
    "from hda import Client\n",
    "import os\n",
    "import datetime\n",
    "import time\n",
    "import matplotlib\n",
    "import cfgrib"
   ]
  },
  {
   "cell_type": "code",
   "execution_count": 2,
   "id": "e5ca9298",
   "metadata": {},
   "outputs": [
    {
     "name": "stdout",
     "output_type": "stream",
     "text": [
      "01\n"
     ]
    }
   ],
   "source": [
    "c = Client(debug=True)\n",
    "month = \"0\" + str(1)\n",
    "print(month)"
   ]
  },
  {
   "cell_type": "code",
   "execution_count": 3,
   "id": "37cd3f45",
   "metadata": {},
   "outputs": [],
   "source": [
    "data = {\n",
    "  \"datasetId\": \"EO:ECMWF:DAT:REANALYSIS_ERA5_LAND\",\n",
    "  \"boundingBoxValues\": [\n",
    "    {\n",
    "      \"name\": \"area\",\n",
    "      \"bbox\": [\n",
    "        4.919044320039164,\n",
    "        45.73676238441797,\n",
    "        4.919044320039165,\n",
    "        45.73676238441798,\n",
    "      ]\n",
    "    }\n",
    "  ],\n",
    "  \"multiStringSelectValues\": [\n",
    "    {\n",
    "      \"name\": \"day\",\n",
    "      \"value\": [\n",
    "        \"10\",\n",
    "        \"11\",\n",
    "        \"12\",\n",
    "        \"13\",\n",
    "        \"14\",\n",
    "        \"15\",\n",
    "        \"16\",\n",
    "        \"17\",\n",
    "        \"18\",\n",
    "        \"19\",\n",
    "        \"20\",\n",
    "        \"21\",\n",
    "        \"22\",\n",
    "        \"23\",\n",
    "        \"24\",\n",
    "        \"25\",\n",
    "        \"26\",\n",
    "        \"27\",\n",
    "        \"28\",\n",
    "        \"29\",\n",
    "        \"30\",\n",
    "        \"31\",\n",
    "        \"01\",\n",
    "        \"02\",\n",
    "        \"03\",\n",
    "        \"04\",\n",
    "        \"05\",\n",
    "        \"06\",\n",
    "        \"07\",\n",
    "        \"08\",\n",
    "        \"09\"\n",
    "      ]\n",
    "    },\n",
    "    {\n",
    "      \"name\": \"time\",\n",
    "      \"value\": [\n",
    "        \"00:00\",\n",
    "        \"01:00\",\n",
    "        \"02:00\",\n",
    "        \"03:00\",\n",
    "        \"04:00\",\n",
    "        \"05:00\",\n",
    "        \"06:00\",\n",
    "        \"07:00\",\n",
    "        \"08:00\",\n",
    "        \"09:00\",\n",
    "        \"10:00\",\n",
    "        \"11:00\",\n",
    "        \"12:00\",\n",
    "        \"13:00\",\n",
    "        \"14:00\",\n",
    "        \"15:00\",\n",
    "        \"16:00\",\n",
    "        \"17:00\",\n",
    "        \"18:00\",\n",
    "        \"19:00\",\n",
    "        \"20:00\",\n",
    "        \"21:00\",\n",
    "        \"22:00\",\n",
    "        \"23:00\"\n",
    "      ]\n",
    "    },\n",
    "    {\n",
    "      \"name\": \"variable\",\n",
    "      \"value\": [\n",
    "        \"2m_temperature\"\n",
    "      ]\n",
    "    }\n",
    "  ],\n",
    "  \"stringChoiceValues\": [\n",
    "    {\n",
    "      \"name\": \"format\",\n",
    "      \"value\": \"netcdf\"\n",
    "    },\n",
    "    {\n",
    "      \"name\": \"month\",\n",
    "      \"value\": \"01\"\n",
    "    },\n",
    "    {\n",
    "      \"name\": \"year\",\n",
    "      \"value\": \"2022\"\n",
    "    }\n",
    "  ]\n",
    "}"
   ]
  },
  {
   "cell_type": "code",
   "execution_count": null,
   "id": "c672bf84",
   "metadata": {},
   "outputs": [
    {
     "name": "stderr",
     "output_type": "stream",
     "text": [
      "                                                                                                                       \r"
     ]
    },
    {
     "name": "stdout",
     "output_type": "stream",
     "text": [
      "Found: adaptor.mars.internal-1686496765.3737743-19693-9-d47ed260-17d3-4dbe-9da7-1c427c4b17d3.nc\n"
     ]
    },
    {
     "name": "stderr",
     "output_type": "stream",
     "text": [
      "\n",
      "  0%|                                                                                      | 0.00/4.99k [00:00<?, ?B/s]\u001b[A\n",
      "                                                                                                                       \u001b[A"
     ]
    },
    {
     "name": "stdout",
     "output_type": "stream",
     "text": [
      "Found: adaptor.mars.internal-1686506323.3676383-2061-15-0cd439fe-cc90-4449-b4ed-ca84bd5725c7.nc\n"
     ]
    }
   ],
   "source": [
    "stamp = time.time()\n",
    "datasets = []\n",
    "\n",
    "dates = ['01','02','03','04','05','06','07','08','09','10','11','12']\n",
    "\n",
    "for i in dates:\n",
    "    data['stringChoiceValues'][1]['value'] = i\n",
    "    matches = c.search(data)\n",
    "    matches.download()\n",
    "    \n",
    "    for match in matches.results:\n",
    "        fdst = match['filename']\n",
    "        print(f\"Found: {fdst}\")\n",
    "        era5_ds = xr.open_dataset(fdst)\n",
    "        xr.decode_cf(era5_ds)\n",
    "        datasets.append(era5_ds)\n",
    "\n",
    "#filename = '2m_temperatures_1h_lyon' + str(int(stamp)) + '.nc'\n",
    "\n",
    "#os.rename(fdst, filename)"
   ]
  },
  {
   "cell_type": "code",
   "execution_count": null,
   "id": "eac0804e",
   "metadata": {},
   "outputs": [],
   "source": [
    "#era5_ds = xr.open_dataset(filename)\n",
    "#xr.decode_cf(era5_ds)\n",
    "\n",
    "#era5_ds = xr.open_dataset(filename, engine=\"cfgrib\")\n",
    "\n",
    "era5_ds = xr.concat(datasets, dim='time')"
   ]
  },
  {
   "cell_type": "code",
   "execution_count": null,
   "id": "557444bf",
   "metadata": {},
   "outputs": [],
   "source": [
    "print(era5_ds)\n",
    "\n",
    "lats = era5_ds['latitude']\n",
    "print(\"Latitude South: {0:.2f}, Latitude North: {1:.2f}\".format(lats.data.min(), lats.data.max()))\n",
    "\n",
    "lons = era5_ds['longitude']\n",
    "print(\"Latitude West: {0:.2f}, Latitude East: {1:.2f}\".format(lons.data.min(), lons.data.max()))"
   ]
  },
  {
   "cell_type": "code",
   "execution_count": null,
   "id": "ba45cbe9",
   "metadata": {},
   "outputs": [],
   "source": [
    "temperature2m = era5_ds['t2m']\n",
    "print(temperature2m)"
   ]
  },
  {
   "cell_type": "code",
   "execution_count": null,
   "id": "a09a9252",
   "metadata": {},
   "outputs": [],
   "source": [
    "print(temperature2m.values)"
   ]
  },
  {
   "cell_type": "code",
   "execution_count": null,
   "id": "06896f0d",
   "metadata": {},
   "outputs": [],
   "source": [
    "print(temperature2m.coords)"
   ]
  },
  {
   "cell_type": "code",
   "execution_count": null,
   "id": "c8027130",
   "metadata": {},
   "outputs": [],
   "source": [
    "print(temperature2m.coords['longitude'].values)"
   ]
  },
  {
   "cell_type": "code",
   "execution_count": null,
   "id": "9cdfe30b",
   "metadata": {},
   "outputs": [],
   "source": [
    "print(temperature2m.coords['latitude'].values)"
   ]
  },
  {
   "cell_type": "code",
   "execution_count": null,
   "id": "7298668b",
   "metadata": {},
   "outputs": [],
   "source": [
    "print(temperature2m.coords['time'].values)"
   ]
  },
  {
   "cell_type": "code",
   "execution_count": null,
   "id": "c93eedda",
   "metadata": {},
   "outputs": [],
   "source": [
    "print(temperature2m.attrs)"
   ]
  },
  {
   "cell_type": "code",
   "execution_count": null,
   "id": "6d0e015d",
   "metadata": {},
   "outputs": [],
   "source": [
    "print(temperature2m.attrs['units'])"
   ]
  },
  {
   "cell_type": "code",
   "execution_count": null,
   "id": "4e0fdbd4",
   "metadata": {},
   "outputs": [],
   "source": [
    "print(temperature2m.attrs['long_name'])"
   ]
  },
  {
   "cell_type": "code",
   "execution_count": null,
   "id": "021ab4ce",
   "metadata": {
    "scrolled": true
   },
   "outputs": [],
   "source": [
    "for i in range (0, 1):\n",
    "    (temperature2m[i, :, :]-273.15).plot(cmap = 'jet')\n",
    "    time.sleep(1)"
   ]
  },
  {
   "cell_type": "code",
   "execution_count": null,
   "id": "fc7bd501",
   "metadata": {},
   "outputs": [],
   "source": [
    "temperature2m.mean() - 273.15"
   ]
  },
  {
   "cell_type": "code",
   "execution_count": null,
   "id": "e1c3387e",
   "metadata": {},
   "outputs": [],
   "source": [
    "(temperature2m.sel(time = '2022-05-16T14:00:00.000000000')-273.15).plot(cmap = 'jet')"
   ]
  },
  {
   "cell_type": "code",
   "execution_count": null,
   "id": "5d383e3b",
   "metadata": {},
   "outputs": [],
   "source": [
    "temperature2m"
   ]
  },
  {
   "cell_type": "code",
   "execution_count": null,
   "id": "f0d31821",
   "metadata": {
    "scrolled": false
   },
   "outputs": [],
   "source": [
    "\"\"\"\n",
    "finding frost days: \n",
    "\"\"\"\n",
    "\n",
    "daily_mean_temps = temperature2m.min(dim=['longitude', 'latitude'])\n",
    "\n",
    "#print(daily_mean_temps)\n",
    "\n",
    "daily_temps = daily_mean_temps.resample(time='D').min()    #taking min values of temperature for the region in an array\n",
    "\n",
    "under0_days = daily_temps.where(daily_temps.values < 273.15)    #extract array with days where min temp was under 0\n",
    "under0_days = under0_days.dropna(dim='time')\n",
    "\n",
    "above2_days = daily_temps.where(daily_temps.values > 275)      #extract array with days where min temp was above 2\n",
    "above2_days = above2_days.dropna(dim = 'time')\n",
    "\n",
    "#print(daily_temps)\n",
    "#print(under0_days)\n",
    "\n",
    "frost_array = []\n",
    "for i in under0_days.time:\n",
    "    frost_array.append(i.values)       #append the time values of the days where there was frost\n"
   ]
  },
  {
   "cell_type": "code",
   "execution_count": null,
   "id": "b5fa060c",
   "metadata": {},
   "outputs": [],
   "source": [
    "months = ['January', 'February', 'March', 'April', 'May', 'June', 'July', 'August', 'September', 'October', 'November', 'December']\n",
    "\n",
    "\n",
    "\n",
    "frost_first_half = [date for date in frost_array if (pd.to_datetime(date).month) < 7]     #cut year in 2 bf4 july to find seas\n",
    "frost_2nd_half = [date for date in frost_array if (pd.to_datetime(date).month) >= 7]     #cut year in 2 after july\n",
    "\n",
    "\n",
    "first_frost_day = pd.to_datetime(min(frost_2nd_half))\n",
    "last_frost_day = pd.to_datetime(max(frost_first_half))\n",
    "\n",
    "#do the same for above2_days\n",
    "\n",
    "\n",
    "\n",
    "\n",
    "#print(first_frost_day)\n",
    "#print(last_frost_day)\n",
    "\n",
    "print(f\"In {first_frost_day.year}, the last frost day happened on {last_frost_day}, and frost came back on {first_frost_day}. The growing season of this place is hence between {months[last_frost_day.month - 1]} and {months[first_frost_day.month - 1]}.\")"
   ]
  },
  {
   "cell_type": "code",
   "execution_count": null,
   "id": "7de11c7a",
   "metadata": {
    "scrolled": true
   },
   "outputs": [],
   "source": [
    "\"\"\"\n",
    "Calculate median temperature over growing season:\n",
    "\"\"\"\n",
    "print(last_frost_day, first_frost_day, type(last_frost_day))\n",
    "\n",
    "last_frost_day = last_frost_day + datetime.timedelta(days=1)\n",
    "first_frost_day = first_frost_day - datetime.timedelta(days=1)\n",
    "\n",
    "last_frost_day = datetime.datetime(last_frost_day.year, last_frost_day.month, last_frost_day.day)\n",
    "first_frost_day = datetime.datetime(first_frost_day.year, first_frost_day.month, first_frost_day.day)\n",
    "\n",
    "\n",
    "las_tmsp = pd.to_datetime(last_frost_day)\n",
    "first_tmsp = pd.to_datetime(first_frost_day)\n",
    "\n",
    "print(las_tmsp, first_tmsp)\n",
    "\n",
    "\n",
    "\n",
    "mask = (temperature2m.time > las_tmsp) & (temperature2m.time < first_tmsp)\n",
    "\n",
    "seasons_temps = temperature2m.sel(time=mask)      #array with temperatures of the growing season\n",
    "\n",
    "print(seasons_temps)"
   ]
  },
  {
   "cell_type": "code",
   "execution_count": null,
   "id": "a9890626",
   "metadata": {},
   "outputs": [],
   "source": [
    "print(seasons_temps.values.min())"
   ]
  },
  {
   "cell_type": "code",
   "execution_count": null,
   "id": "a8b09ff2",
   "metadata": {},
   "outputs": [],
   "source": [
    "#create array with median daily temperatures\n",
    "\n",
    "daily_mean_temps = seasons_temps.mean(dim=['longitude', 'latitude']) - 273.15\n",
    "\n",
    "# Resample the daily mean temperatures to a daily frequency\n",
    "daily_temps = daily_mean_temps.resample(time='D').mean()\n",
    "\n",
    "\n",
    "daily_temps\n",
    "\n",
    "print(daily_temps.min(), daily_temps.max())"
   ]
  },
  {
   "cell_type": "code",
   "execution_count": null,
   "id": "361ab28c",
   "metadata": {},
   "outputs": [],
   "source": [
    "average_min_temp_season = daily_temps.values.min()\n",
    "average_max_temp_season = daily_temps.values.max()\n",
    "\n",
    "print(average_min_temp_season, average_max_temp_season)"
   ]
  },
  {
   "cell_type": "code",
   "execution_count": null,
   "id": "aecebeba",
   "metadata": {},
   "outputs": [],
   "source": []
  }
 ],
 "metadata": {
  "kernelspec": {
   "display_name": "Python 3 (ipykernel)",
   "language": "python",
   "name": "python3"
  },
  "language_info": {
   "codemirror_mode": {
    "name": "ipython",
    "version": 3
   },
   "file_extension": ".py",
   "mimetype": "text/x-python",
   "name": "python",
   "nbconvert_exporter": "python",
   "pygments_lexer": "ipython3",
   "version": "3.11.3"
  }
 },
 "nbformat": 4,
 "nbformat_minor": 5
}
